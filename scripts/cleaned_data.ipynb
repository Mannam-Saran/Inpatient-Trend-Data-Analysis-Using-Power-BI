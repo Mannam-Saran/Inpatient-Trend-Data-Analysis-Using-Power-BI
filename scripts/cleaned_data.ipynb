{
 "cells": [
  {
   "cell_type": "code",
   "execution_count": 4,
   "id": "cab9f5f6-8ff0-4744-a62c-6da6db764513",
   "metadata": {},
   "outputs": [
    {
     "data": {
      "text/html": [
       "<div>\n",
       "<style scoped>\n",
       "    .dataframe tbody tr th:only-of-type {\n",
       "        vertical-align: middle;\n",
       "    }\n",
       "\n",
       "    .dataframe tbody tr th {\n",
       "        vertical-align: top;\n",
       "    }\n",
       "\n",
       "    .dataframe thead th {\n",
       "        text-align: right;\n",
       "    }\n",
       "</style>\n",
       "<table border=\"1\" class=\"dataframe\">\n",
       "  <thead>\n",
       "    <tr style=\"text-align: right;\">\n",
       "      <th></th>\n",
       "      <th>mmwr_week</th>\n",
       "      <th>week</th>\n",
       "      <th>week_start</th>\n",
       "      <th>week_end</th>\n",
       "      <th>season</th>\n",
       "      <th>data_source</th>\n",
       "      <th>essence_category</th>\n",
       "      <th>respiratory_category</th>\n",
       "      <th>visit_type</th>\n",
       "      <th>demographic_category</th>\n",
       "      <th>demographic_group</th>\n",
       "      <th>percent</th>\n",
       "      <th>current_week_ending</th>\n",
       "    </tr>\n",
       "  </thead>\n",
       "  <tbody>\n",
       "    <tr>\n",
       "      <th>0</th>\n",
       "      <td>201710</td>\n",
       "      <td>10</td>\n",
       "      <td>03/05/2017</td>\n",
       "      <td>03/11/2017</td>\n",
       "      <td>2016-2017</td>\n",
       "      <td>ESSENCE</td>\n",
       "      <td>CDC COVID-Specific DD v1</td>\n",
       "      <td>COVID-19</td>\n",
       "      <td>ED Visits</td>\n",
       "      <td>Age Group</td>\n",
       "      <td>Age Unknown</td>\n",
       "      <td>0.0</td>\n",
       "      <td>03/08/2025</td>\n",
       "    </tr>\n",
       "    <tr>\n",
       "      <th>1</th>\n",
       "      <td>202446</td>\n",
       "      <td>46</td>\n",
       "      <td>11/10/2024</td>\n",
       "      <td>11/16/2024</td>\n",
       "      <td>2024-2025</td>\n",
       "      <td>ESSENCE</td>\n",
       "      <td>Influenza-like Illness</td>\n",
       "      <td>ILI</td>\n",
       "      <td>ED Visits</td>\n",
       "      <td>Age Group</td>\n",
       "      <td>Age Unknown</td>\n",
       "      <td>0.0</td>\n",
       "      <td>11/16/2024</td>\n",
       "    </tr>\n",
       "    <tr>\n",
       "      <th>2</th>\n",
       "      <td>201935</td>\n",
       "      <td>35</td>\n",
       "      <td>08/25/2019</td>\n",
       "      <td>08/31/2019</td>\n",
       "      <td>2018-2019</td>\n",
       "      <td>ESSENCE</td>\n",
       "      <td>CDC COVID-Specific DD v1</td>\n",
       "      <td>COVID-19</td>\n",
       "      <td>ED Visits</td>\n",
       "      <td>ALL</td>\n",
       "      <td>ALL</td>\n",
       "      <td>0.0</td>\n",
       "      <td>08/30/2025</td>\n",
       "    </tr>\n",
       "    <tr>\n",
       "      <th>3</th>\n",
       "      <td>202447</td>\n",
       "      <td>47</td>\n",
       "      <td>11/17/2024</td>\n",
       "      <td>11/23/2024</td>\n",
       "      <td>2024-2025</td>\n",
       "      <td>ESSENCE</td>\n",
       "      <td>Influenza-like Illness</td>\n",
       "      <td>ILI</td>\n",
       "      <td>ED Visits</td>\n",
       "      <td>Age Group</td>\n",
       "      <td>Age Unknown</td>\n",
       "      <td>0.0</td>\n",
       "      <td>11/23/2024</td>\n",
       "    </tr>\n",
       "    <tr>\n",
       "      <th>4</th>\n",
       "      <td>202447</td>\n",
       "      <td>47</td>\n",
       "      <td>11/17/2024</td>\n",
       "      <td>11/23/2024</td>\n",
       "      <td>2024-2025</td>\n",
       "      <td>ESSENCE</td>\n",
       "      <td>CDC Broad Acute Respiratory DD v1</td>\n",
       "      <td>Broad Acute Respiratory</td>\n",
       "      <td>ED Visits</td>\n",
       "      <td>Age Group</td>\n",
       "      <td>Age Unknown</td>\n",
       "      <td>0.2</td>\n",
       "      <td>11/23/2024</td>\n",
       "    </tr>\n",
       "  </tbody>\n",
       "</table>\n",
       "</div>"
      ],
      "text/plain": [
       "   mmwr_week  week  week_start    week_end     season data_source  \\\n",
       "0     201710    10  03/05/2017  03/11/2017  2016-2017     ESSENCE   \n",
       "1     202446    46  11/10/2024  11/16/2024  2024-2025     ESSENCE   \n",
       "2     201935    35  08/25/2019  08/31/2019  2018-2019     ESSENCE   \n",
       "3     202447    47  11/17/2024  11/23/2024  2024-2025     ESSENCE   \n",
       "4     202447    47  11/17/2024  11/23/2024  2024-2025     ESSENCE   \n",
       "\n",
       "                    essence_category     respiratory_category visit_type  \\\n",
       "0           CDC COVID-Specific DD v1                 COVID-19  ED Visits   \n",
       "1             Influenza-like Illness                      ILI  ED Visits   \n",
       "2           CDC COVID-Specific DD v1                 COVID-19  ED Visits   \n",
       "3             Influenza-like Illness                      ILI  ED Visits   \n",
       "4  CDC Broad Acute Respiratory DD v1  Broad Acute Respiratory  ED Visits   \n",
       "\n",
       "  demographic_category demographic_group  percent current_week_ending  \n",
       "0            Age Group       Age Unknown      0.0          03/08/2025  \n",
       "1            Age Group       Age Unknown      0.0          11/16/2024  \n",
       "2                  ALL               ALL      0.0          08/30/2025  \n",
       "3            Age Group       Age Unknown      0.0          11/23/2024  \n",
       "4            Age Group       Age Unknown      0.2          11/23/2024  "
      ]
     },
     "execution_count": 4,
     "metadata": {},
     "output_type": "execute_result"
    }
   ],
   "source": [
    "import pandas as pd\n",
    "import os\n",
    "\n",
    "# Correct path to the file\n",
    "file_path = \"../data/raw/Inpatient__Emergency_Department__and_Outpatient_Visits_for_Respiratory_Illnesses_20250514.csv\"\n",
    "df = pd.read_csv(file_path)\n",
    "df.head()"
   ]
  },
  {
   "cell_type": "code",
   "execution_count": 7,
   "id": "08cbe323-87b4-4a73-bfc7-e35cf268aea4",
   "metadata": {},
   "outputs": [
    {
     "data": {
      "text/plain": [
       "week_start             datetime64[ns]\n",
       "week_end               datetime64[ns]\n",
       "current_week_ending    datetime64[ns]\n",
       "dtype: object"
      ]
     },
     "execution_count": 7,
     "metadata": {},
     "output_type": "execute_result"
    }
   ],
   "source": [
    "# Convert date columns to datetime format\n",
    "df['week_start'] = pd.to_datetime(df['week_start'], errors='coerce')\n",
    "df['week_end'] = pd.to_datetime(df['week_end'], errors='coerce')\n",
    "df['current_week_ending'] = pd.to_datetime(df['current_week_ending'], errors='coerce')\n",
    "\n",
    "# Check the changes\n",
    "df[['week_start', 'week_end', 'current_week_ending']].dtypes"
   ]
  },
  {
   "cell_type": "code",
   "execution_count": 8,
   "id": "873e1aed-bb5b-4f03-898a-b3d861fea26a",
   "metadata": {},
   "outputs": [
    {
     "name": "stdout",
     "output_type": "stream",
     "text": [
      "Before cleaning: (51849, 13)\n",
      "After cleaning: (26133, 13)\n"
     ]
    }
   ],
   "source": [
    "#Remove rows with missing or zero percent\n",
    "# Before cleaning\n",
    "print(\"Before cleaning:\", df.shape)\n",
    "\n",
    "# Remove rows where 'percent' is NaN or zero\n",
    "df = df[df['percent'].notna() & (df['percent'] > 0)]\n",
    "\n",
    "# After cleaning\n",
    "print(\"After cleaning:\", df.shape)\n"
   ]
  },
  {
   "cell_type": "code",
   "execution_count": 9,
   "id": "ba19767e-ed7e-492d-b5d7-a61802ed1d1c",
   "metadata": {},
   "outputs": [
    {
     "data": {
      "text/html": [
       "<div>\n",
       "<style scoped>\n",
       "    .dataframe tbody tr th:only-of-type {\n",
       "        vertical-align: middle;\n",
       "    }\n",
       "\n",
       "    .dataframe tbody tr th {\n",
       "        vertical-align: top;\n",
       "    }\n",
       "\n",
       "    .dataframe thead th {\n",
       "        text-align: right;\n",
       "    }\n",
       "</style>\n",
       "<table border=\"1\" class=\"dataframe\">\n",
       "  <thead>\n",
       "    <tr style=\"text-align: right;\">\n",
       "      <th></th>\n",
       "      <th>season</th>\n",
       "      <th>data_source</th>\n",
       "      <th>essence_category</th>\n",
       "      <th>respiratory_category</th>\n",
       "      <th>visit_type</th>\n",
       "      <th>demographic_category</th>\n",
       "      <th>demographic_group</th>\n",
       "    </tr>\n",
       "  </thead>\n",
       "  <tbody>\n",
       "    <tr>\n",
       "      <th>4</th>\n",
       "      <td>2024-2025</td>\n",
       "      <td>Essence</td>\n",
       "      <td>Cdc Broad Acute Respiratory Dd V1</td>\n",
       "      <td>Broad Acute Respiratory</td>\n",
       "      <td>Ed Visits</td>\n",
       "      <td>Age Group</td>\n",
       "      <td>Age Unknown</td>\n",
       "    </tr>\n",
       "    <tr>\n",
       "      <th>26</th>\n",
       "      <td>2024-2025</td>\n",
       "      <td>Essence</td>\n",
       "      <td>Influenza-Like Illness</td>\n",
       "      <td>Ili</td>\n",
       "      <td>Ed Visits</td>\n",
       "      <td>Race/Ethnicity</td>\n",
       "      <td>Asian Non-Hispanic</td>\n",
       "    </tr>\n",
       "    <tr>\n",
       "      <th>36</th>\n",
       "      <td>2024-2025</td>\n",
       "      <td>Essence</td>\n",
       "      <td>Cdc Covid-Specific Dd V1</td>\n",
       "      <td>Covid-19</td>\n",
       "      <td>Admissions</td>\n",
       "      <td>Race/Ethnicity</td>\n",
       "      <td>Asian Non-Hispanic</td>\n",
       "    </tr>\n",
       "    <tr>\n",
       "      <th>44</th>\n",
       "      <td>2024-2025</td>\n",
       "      <td>Essence</td>\n",
       "      <td>Cdc Broad Acute Respiratory Dd V1</td>\n",
       "      <td>Broad Acute Respiratory</td>\n",
       "      <td>Ed Visits</td>\n",
       "      <td>Race/Ethnicity</td>\n",
       "      <td>Asian Non-Hispanic</td>\n",
       "    </tr>\n",
       "    <tr>\n",
       "      <th>57</th>\n",
       "      <td>2024-2025</td>\n",
       "      <td>Essence</td>\n",
       "      <td>Influenza-Like Illness</td>\n",
       "      <td>Ili</td>\n",
       "      <td>Admissions</td>\n",
       "      <td>Race/Ethnicity</td>\n",
       "      <td>Asian Non-Hispanic</td>\n",
       "    </tr>\n",
       "  </tbody>\n",
       "</table>\n",
       "</div>"
      ],
      "text/plain": [
       "       season data_source                   essence_category  \\\n",
       "4   2024-2025     Essence  Cdc Broad Acute Respiratory Dd V1   \n",
       "26  2024-2025     Essence             Influenza-Like Illness   \n",
       "36  2024-2025     Essence           Cdc Covid-Specific Dd V1   \n",
       "44  2024-2025     Essence  Cdc Broad Acute Respiratory Dd V1   \n",
       "57  2024-2025     Essence             Influenza-Like Illness   \n",
       "\n",
       "       respiratory_category  visit_type demographic_category  \\\n",
       "4   Broad Acute Respiratory   Ed Visits            Age Group   \n",
       "26                      Ili   Ed Visits       Race/Ethnicity   \n",
       "36                 Covid-19  Admissions       Race/Ethnicity   \n",
       "44  Broad Acute Respiratory   Ed Visits       Race/Ethnicity   \n",
       "57                      Ili  Admissions       Race/Ethnicity   \n",
       "\n",
       "     demographic_group  \n",
       "4          Age Unknown  \n",
       "26  Asian Non-Hispanic  \n",
       "36  Asian Non-Hispanic  \n",
       "44  Asian Non-Hispanic  \n",
       "57  Asian Non-Hispanic  "
      ]
     },
     "execution_count": 9,
     "metadata": {},
     "output_type": "execute_result"
    }
   ],
   "source": [
    "# List of text columns to clean\n",
    "text_columns = [\n",
    "    'season', 'data_source', 'essence_category',\n",
    "    'respiratory_category', 'visit_type',\n",
    "    'demographic_category', 'demographic_group'\n",
    "]\n",
    "\n",
    "# Strip whitespace and standardize to title case\n",
    "for col in text_columns:\n",
    "    df[col] = df[col].astype(str).str.strip().str.title()\n",
    "\n",
    "# Optional: Preview cleaned values\n",
    "df[text_columns].head()"
   ]
  },
  {
   "cell_type": "code",
   "execution_count": 12,
   "id": "01709ce7-7168-48c0-ba23-6a0e7c8aacab",
   "metadata": {},
   "outputs": [
    {
     "name": "stdout",
     "output_type": "stream",
     "text": [
      "Total completely duplicated rows: 0\n",
      "Partial duplicates ignoring 'percent': 0\n"
     ]
    }
   ],
   "source": [
    "# Check total duplicate rows (all columns match)\n",
    "total_duplicates = df.duplicated().sum()\n",
    "print(\"Total completely duplicated rows:\", total_duplicates)\n",
    "\n",
    "# Check for partial duplicates by key columns (ignoring 'percent')\n",
    "partial_duplicates = df.duplicated(subset=[\n",
    "    'mmwr_week', 'week', 'week_start', 'week_end', 'season',\n",
    "    'data_source', 'essence_category', 'respiratory_category',\n",
    "    'visit_type', 'demographic_category', 'demographic_group',\n",
    "    'current_week_ending'\n",
    "]).sum()\n",
    "print(\"Partial duplicates ignoring 'percent':\", partial_duplicates)"
   ]
  },
  {
   "cell_type": "code",
   "execution_count": 13,
   "id": "1bdab83c-38b6-45b6-baae-18881296aa6a",
   "metadata": {},
   "outputs": [
    {
     "name": "stdout",
     "output_type": "stream",
     "text": [
      "Shape after dropping partial duplicates: (26133, 13)\n"
     ]
    }
   ],
   "source": [
    "# Drop partial duplicates (based on identifying columns)\n",
    "df.drop_duplicates(subset=[\n",
    "    'mmwr_week', 'week', 'week_start', 'week_end', 'season',\n",
    "    'data_source', 'essence_category', 'respiratory_category',\n",
    "    'visit_type', 'demographic_category', 'demographic_group',\n",
    "    'current_week_ending'\n",
    "], keep='first', inplace=True)\n",
    "\n",
    "print(\"Shape after dropping partial duplicates:\", df.shape)"
   ]
  },
  {
   "cell_type": "code",
   "execution_count": 15,
   "id": "085421cf-f9bf-4b90-aaa8-90f184cde8c1",
   "metadata": {},
   "outputs": [
    {
     "name": "stdout",
     "output_type": "stream",
     "text": [
      "Cleaned data saved to: ../data/cleaned/Inpatient_Respiratory_Visits_Cleaned.csv\n"
     ]
    }
   ],
   "source": [
    "# Import os to handle directories\n",
    "import os\n",
    "\n",
    "# Define output directory and file name\n",
    "output_dir = \"../data/cleaned\"\n",
    "output_file = \"Inpatient_Respiratory_Visits_Cleaned.csv\"\n",
    "output_path = os.path.join(output_dir, output_file)\n",
    "\n",
    "# Create directory if it doesn't exist\n",
    "os.makedirs(output_dir, exist_ok=True)\n",
    "\n",
    "# Save the cleaned DataFrame to CSV\n",
    "df.to_csv(output_path, index=False)\n",
    "\n",
    "print(f\"Cleaned data saved to: {output_path}\")"
   ]
  },
  {
   "cell_type": "code",
   "execution_count": 16,
   "id": "6be86b7c-b271-4b0d-ad2d-94cff04feced",
   "metadata": {},
   "outputs": [
    {
     "name": "stdout",
     "output_type": "stream",
     "text": [
      "📊 Aggregated summary saved to: ../data/cleaned/Inpatient_Trend_Aggregated.csv\n"
     ]
    }
   ],
   "source": [
    "# Group by week, visit type, respiratory category, and demographic group\n",
    "agg_df = df.groupby(\n",
    "    ['current_week_ending', 'visit_type', 'respiratory_category', 'demographic_group']\n",
    ")['percent'].mean().reset_index()\n",
    "\n",
    "# Save the aggregated data\n",
    "agg_path = \"../data/cleaned/Inpatient_Trend_Aggregated.csv\"\n",
    "agg_df.to_csv(agg_path, index=False)\n",
    "\n",
    "print(f\"📊 Aggregated summary saved to: {agg_path}\")"
   ]
  },
  {
   "cell_type": "code",
   "execution_count": 10,
   "id": "27b85412-855f-45ed-94f1-c6401eec84df",
   "metadata": {},
   "outputs": [
    {
     "data": {
      "text/plain": [
       "<Figure size 5000x5000 with 0 Axes>"
      ]
     },
     "metadata": {},
     "output_type": "display_data"
    },
    {
     "data": {
      "image/png": "[encoded data removed]",
      "text/plain": [
       "<Figure size 640x480 with 4 Axes>"
      ]
     },
     "metadata": {},
     "output_type": "display_data"
    }
   ],
   "source": [
    "from statsmodels.tsa.seasonal import seasonal_decompose\n",
    "import pandas as pd\n",
    "import matplotlib.pyplot as plt\n",
    "\n",
    "# Load data\n",
    "df = pd.read_csv(\"../data/cleaned/Inpatient_Respiratory_Visits_Cleaned.csv\")\n",
    "\n",
    "# Weekly aggregation\n",
    "weekly_df = df.groupby('current_week_ending')['percent'].mean().reset_index()\n",
    "weekly_df['current_week_ending'] = pd.to_datetime(weekly_df['current_week_ending'])\n",
    "weekly_df.set_index('current_week_ending', inplace=True)\n",
    "weekly_df = weekly_df.asfreq('W-SAT')\n",
    "weekly_df['percent'] = weekly_df['percent'].interpolate(method='linear')\n",
    "\n",
    "# Decomposition using period=12 (quarterly)\n",
    "result = seasonal_decompose(weekly_df['percent'], model='additive', period=12)\n",
    "\n",
    "# Plot results\n",
    "plt.figure(figsize=(50,50))\n",
    "result.plot()\n",
    "plt.suptitle(\"Quarterly Seasonal Decomposition of Weekly Respiratory Visits\", fontsize=16)\n",
    "plt.tight_layout()\n",
    "plt.subplots_adjust(top=0.90)\n",
    "plt.show()"
   ]
  },
  {
   "cell_type": "code",
   "execution_count": null,
   "id": "a0f517b1-3edf-473a-9925-f9ae7f49feab",
   "metadata": {},
   "outputs": [],
   "source": []
  }
 ],
 "metadata": {
  "kernelspec": {
   "display_name": "Python 3 (ipykernel)",
   "language": "python",
   "name": "python3"
  },
  "language_info": {
   "codemirror_mode": {
    "name": "ipython",
    "version": 3
   },
   "file_extension": ".py",
   "mimetype": "text/x-python",
   "name": "python",
   "nbconvert_exporter": "python",
   "pygments_lexer": "ipython3",
   "version": "3.13.0"
  }
 },
 "nbformat": 4,
 "nbformat_minor": 5
}
